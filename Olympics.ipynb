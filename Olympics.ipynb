{
 "cells": [
  {
   "cell_type": "code",
   "execution_count": null,
   "metadata": {},
   "outputs": [],
   "source": [
    "https://www.kaggle.com/code/manishwahale/choropleth-maps-olympics-medals-since-1896/notebook"
   ]
  }
 ],
 "metadata": {
  "kernelspec": {
   "display_name": "Python 3.10.0 64-bit",
   "language": "python",
   "name": "python3"
  },
  "language_info": {
   "name": "python",
   "version": "3.10.0"
  },
  "orig_nbformat": 4,
  "vscode": {
   "interpreter": {
    "hash": "7e8275fe7b992f0583ab680c85e413b0fc7b6762ef298993dcdeec973ce3fa5c"
   }
  }
 },
 "nbformat": 4,
 "nbformat_minor": 2
}
