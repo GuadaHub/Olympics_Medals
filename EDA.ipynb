{
 "cells": [
  {
   "cell_type": "code",
   "execution_count": 1,
   "metadata": {},
   "outputs": [],
   "source": [
    "import numpy as np \n",
    "import pandas as pd\n",
    "import matplotlib.pyplot as plt\n",
    "import seaborn as sns"
   ]
  },
  {
   "cell_type": "code",
   "execution_count": 31,
   "metadata": {},
   "outputs": [
    {
     "data": {
      "text/html": [
       "<div>\n",
       "<style scoped>\n",
       "    .dataframe tbody tr th:only-of-type {\n",
       "        vertical-align: middle;\n",
       "    }\n",
       "\n",
       "    .dataframe tbody tr th {\n",
       "        vertical-align: top;\n",
       "    }\n",
       "\n",
       "    .dataframe thead th {\n",
       "        text-align: right;\n",
       "    }\n",
       "</style>\n",
       "<table border=\"1\" class=\"dataframe\">\n",
       "  <thead>\n",
       "    <tr style=\"text-align: right;\">\n",
       "      <th></th>\n",
       "      <th>countries</th>\n",
       "      <th>ioc_code</th>\n",
       "      <th>summer_participations</th>\n",
       "      <th>summer_gold</th>\n",
       "      <th>summer_silver</th>\n",
       "      <th>summer_bronze</th>\n",
       "      <th>summer_total</th>\n",
       "      <th>winter_participations</th>\n",
       "      <th>winter_gold</th>\n",
       "      <th>winter_silver</th>\n",
       "      <th>winter_bronze</th>\n",
       "      <th>winter_total</th>\n",
       "      <th>total_participation</th>\n",
       "      <th>total_gold</th>\n",
       "      <th>total_silver</th>\n",
       "      <th>total_bronze</th>\n",
       "      <th>total_total</th>\n",
       "    </tr>\n",
       "  </thead>\n",
       "  <tbody>\n",
       "    <tr>\n",
       "      <th>0</th>\n",
       "      <td>Afghanistan</td>\n",
       "      <td>(AFG)</td>\n",
       "      <td>15</td>\n",
       "      <td>0</td>\n",
       "      <td>0</td>\n",
       "      <td>2</td>\n",
       "      <td>2</td>\n",
       "      <td>0</td>\n",
       "      <td>0</td>\n",
       "      <td>0</td>\n",
       "      <td>0</td>\n",
       "      <td>0</td>\n",
       "      <td>15</td>\n",
       "      <td>0</td>\n",
       "      <td>0</td>\n",
       "      <td>2</td>\n",
       "      <td>2</td>\n",
       "    </tr>\n",
       "    <tr>\n",
       "      <th>1</th>\n",
       "      <td>Algeria</td>\n",
       "      <td>(ALG)</td>\n",
       "      <td>14</td>\n",
       "      <td>5</td>\n",
       "      <td>4</td>\n",
       "      <td>8</td>\n",
       "      <td>17</td>\n",
       "      <td>3</td>\n",
       "      <td>0</td>\n",
       "      <td>0</td>\n",
       "      <td>0</td>\n",
       "      <td>0</td>\n",
       "      <td>17</td>\n",
       "      <td>5</td>\n",
       "      <td>4</td>\n",
       "      <td>8</td>\n",
       "      <td>17</td>\n",
       "    </tr>\n",
       "    <tr>\n",
       "      <th>2</th>\n",
       "      <td>Argentina</td>\n",
       "      <td>(ARG)</td>\n",
       "      <td>25</td>\n",
       "      <td>21</td>\n",
       "      <td>26</td>\n",
       "      <td>30</td>\n",
       "      <td>77</td>\n",
       "      <td>20</td>\n",
       "      <td>0</td>\n",
       "      <td>0</td>\n",
       "      <td>0</td>\n",
       "      <td>0</td>\n",
       "      <td>45</td>\n",
       "      <td>21</td>\n",
       "      <td>26</td>\n",
       "      <td>30</td>\n",
       "      <td>77</td>\n",
       "    </tr>\n",
       "  </tbody>\n",
       "</table>\n",
       "</div>"
      ],
      "text/plain": [
       "     countries ioc_code  summer_participations summer_gold  summer_silver  \\\n",
       "0  Afghanistan    (AFG)                     15           0              0   \n",
       "1      Algeria    (ALG)                     14           5              4   \n",
       "2    Argentina    (ARG)                     25          21             26   \n",
       "\n",
       "   summer_bronze summer_total  winter_participations  winter_gold  \\\n",
       "0              2            2                      0            0   \n",
       "1              8           17                      3            0   \n",
       "2             30           77                     20            0   \n",
       "\n",
       "   winter_silver  winter_bronze  winter_total  total_participation total_gold  \\\n",
       "0              0              0             0                   15          0   \n",
       "1              0              0             0                   17          5   \n",
       "2              0              0             0                   45         21   \n",
       "\n",
       "   total_silver  total_bronze total_total   \n",
       "0             0             2            2  \n",
       "1             4             8           17  \n",
       "2            26            30           77  "
      ]
     },
     "execution_count": 31,
     "metadata": {},
     "output_type": "execute_result"
    }
   ],
   "source": [
    "data = pd.read_csv('olympics_medals_country_wise.csv')\n",
    "data.head(3)"
   ]
  },
  {
   "cell_type": "code",
   "execution_count": 33,
   "metadata": {},
   "outputs": [
    {
     "data": {
      "text/html": [
       "<div>\n",
       "<style scoped>\n",
       "    .dataframe tbody tr th:only-of-type {\n",
       "        vertical-align: middle;\n",
       "    }\n",
       "\n",
       "    .dataframe tbody tr th {\n",
       "        vertical-align: top;\n",
       "    }\n",
       "\n",
       "    .dataframe thead th {\n",
       "        text-align: right;\n",
       "    }\n",
       "</style>\n",
       "<table border=\"1\" class=\"dataframe\">\n",
       "  <thead>\n",
       "    <tr style=\"text-align: right;\">\n",
       "      <th></th>\n",
       "      <th>countries</th>\n",
       "      <th>summer_participations</th>\n",
       "      <th>summer_gold</th>\n",
       "      <th>summer_silver</th>\n",
       "      <th>summer_bronze</th>\n",
       "      <th>summer_total</th>\n",
       "    </tr>\n",
       "  </thead>\n",
       "  <tbody>\n",
       "    <tr>\n",
       "      <th>0</th>\n",
       "      <td>Afghanistan</td>\n",
       "      <td>15</td>\n",
       "      <td>0</td>\n",
       "      <td>0</td>\n",
       "      <td>2</td>\n",
       "      <td>2</td>\n",
       "    </tr>\n",
       "    <tr>\n",
       "      <th>1</th>\n",
       "      <td>Algeria</td>\n",
       "      <td>14</td>\n",
       "      <td>5</td>\n",
       "      <td>4</td>\n",
       "      <td>8</td>\n",
       "      <td>17</td>\n",
       "    </tr>\n",
       "    <tr>\n",
       "      <th>2</th>\n",
       "      <td>Argentina</td>\n",
       "      <td>25</td>\n",
       "      <td>21</td>\n",
       "      <td>26</td>\n",
       "      <td>30</td>\n",
       "      <td>77</td>\n",
       "    </tr>\n",
       "    <tr>\n",
       "      <th>3</th>\n",
       "      <td>Armenia</td>\n",
       "      <td>7</td>\n",
       "      <td>2</td>\n",
       "      <td>8</td>\n",
       "      <td>8</td>\n",
       "      <td>18</td>\n",
       "    </tr>\n",
       "    <tr>\n",
       "      <th>4</th>\n",
       "      <td>Australasia</td>\n",
       "      <td>2</td>\n",
       "      <td>3</td>\n",
       "      <td>4</td>\n",
       "      <td>5</td>\n",
       "      <td>12</td>\n",
       "    </tr>\n",
       "    <tr>\n",
       "      <th>...</th>\n",
       "      <td>...</td>\n",
       "      <td>...</td>\n",
       "      <td>...</td>\n",
       "      <td>...</td>\n",
       "      <td>...</td>\n",
       "      <td>...</td>\n",
       "    </tr>\n",
       "    <tr>\n",
       "      <th>151</th>\n",
       "      <td>Zambia</td>\n",
       "      <td>14</td>\n",
       "      <td>0</td>\n",
       "      <td>1</td>\n",
       "      <td>1</td>\n",
       "      <td>2</td>\n",
       "    </tr>\n",
       "    <tr>\n",
       "      <th>152</th>\n",
       "      <td>Zimbabwe</td>\n",
       "      <td>14</td>\n",
       "      <td>3</td>\n",
       "      <td>4</td>\n",
       "      <td>1</td>\n",
       "      <td>8</td>\n",
       "    </tr>\n",
       "    <tr>\n",
       "      <th>153</th>\n",
       "      <td>Independent Olympic Athletes</td>\n",
       "      <td>3</td>\n",
       "      <td>1</td>\n",
       "      <td>0</td>\n",
       "      <td>1</td>\n",
       "      <td>2</td>\n",
       "    </tr>\n",
       "    <tr>\n",
       "      <th>154</th>\n",
       "      <td>Independent Olympic Participants</td>\n",
       "      <td>1</td>\n",
       "      <td>0</td>\n",
       "      <td>1</td>\n",
       "      <td>2</td>\n",
       "      <td>3</td>\n",
       "    </tr>\n",
       "    <tr>\n",
       "      <th>155</th>\n",
       "      <td>Mixed Team</td>\n",
       "      <td>3</td>\n",
       "      <td>11</td>\n",
       "      <td>6</td>\n",
       "      <td>8</td>\n",
       "      <td>25</td>\n",
       "    </tr>\n",
       "  </tbody>\n",
       "</table>\n",
       "<p>156 rows × 6 columns</p>\n",
       "</div>"
      ],
      "text/plain": [
       "                             countries  summer_participations summer_gold  \\\n",
       "0                          Afghanistan                     15           0   \n",
       "1                              Algeria                     14           5   \n",
       "2                            Argentina                     25          21   \n",
       "3                              Armenia                      7           2   \n",
       "4                          Australasia                      2           3   \n",
       "..                                 ...                    ...         ...   \n",
       "151                             Zambia                     14           0   \n",
       "152                           Zimbabwe                     14           3   \n",
       "153       Independent Olympic Athletes                      3           1   \n",
       "154  Independent Olympic Participants                       1           0   \n",
       "155                        Mixed Team                       3          11   \n",
       "\n",
       "     summer_silver  summer_bronze summer_total  \n",
       "0                0              2            2  \n",
       "1                4              8           17  \n",
       "2               26             30           77  \n",
       "3                8              8           18  \n",
       "4                4              5           12  \n",
       "..             ...            ...          ...  \n",
       "151              1              1            2  \n",
       "152              4              1            8  \n",
       "153              0              1            2  \n",
       "154              1              2            3  \n",
       "155              6              8           25  \n",
       "\n",
       "[156 rows x 6 columns]"
      ]
     },
     "execution_count": 33,
     "metadata": {},
     "output_type": "execute_result"
    }
   ],
   "source": [
    "summer_data = data.loc[:, ['countries','summer_participations', 'summer_gold', 'summer_silver', 'summer_bronze', 'summer_total']]\n",
    "summer_data"
   ]
  },
  {
   "cell_type": "code",
   "execution_count": 47,
   "metadata": {},
   "outputs": [
    {
     "data": {
      "text/plain": [
       "dtype('int64')"
      ]
     },
     "execution_count": 47,
     "metadata": {},
     "output_type": "execute_result"
    }
   ],
   "source": [
    "data.summer_participations.dtype"
   ]
  },
  {
   "cell_type": "code",
   "execution_count": 50,
   "metadata": {},
   "outputs": [
    {
     "data": {
      "text/plain": [
       "<seaborn.axisgrid.FacetGrid at 0x28edb317970>"
      ]
     },
     "execution_count": 50,
     "metadata": {},
     "output_type": "execute_result"
    },
    {
     "data": {
      "image/png": "[encoded data removed]",
      "text/plain": [
       "<Figure size 360x360 with 1 Axes>"
      ]
     },
     "metadata": {
      "needs_background": "light"
     },
     "output_type": "display_data"
    }
   ],
   "source": [
    "data1 = summer_data = data.loc[:, ['countries','summer_participations']]\n",
    "plt.figure(figsize=(20,10))\n",
    "sns.catplot(data=data1, x='summer_participations',y='countries', kind='bar')"
   ]
  },
  {
   "cell_type": "markdown",
   "metadata": {},
   "source": [
    "____"
   ]
  },
  {
   "cell_type": "markdown",
   "metadata": {},
   "source": [
    "## The beginning. \n",
    "Understanding the dataset, its columns and information."
   ]
  },
  {
   "cell_type": "code",
   "execution_count": null,
   "metadata": {},
   "outputs": [
    {
     "name": "stdout",
     "output_type": "stream",
     "text": [
      "<class 'pandas.core.frame.DataFrame'>\n",
      "RangeIndex: 156 entries, 0 to 155\n",
      "Data columns (total 17 columns):\n",
      " #   Column                 Non-Null Count  Dtype \n",
      "---  ------                 --------------  ----- \n",
      " 0   countries              156 non-null    object\n",
      " 1   ioc_code               156 non-null    object\n",
      " 2   summer_participations  156 non-null    int64 \n",
      " 3   summer_gold            156 non-null    object\n",
      " 4   summer_silver          156 non-null    int64 \n",
      " 5   summer_bronze          156 non-null    int64 \n",
      " 6   summer_total           156 non-null    object\n",
      " 7   winter_participations  156 non-null    int64 \n",
      " 8   winter_gold            156 non-null    int64 \n",
      " 9   winter_silver          156 non-null    int64 \n",
      " 10  winter_bronze          156 non-null    int64 \n",
      " 11  winter_total           156 non-null    int64 \n",
      " 12  total_participation    156 non-null    int64 \n",
      " 13  total_gold             156 non-null    object\n",
      " 14  total_silver           156 non-null    int64 \n",
      " 15  total_bronze           156 non-null    int64 \n",
      " 16  total_total            156 non-null    object\n",
      "dtypes: int64(11), object(6)\n",
      "memory usage: 20.8+ KB\n"
     ]
    }
   ],
   "source": [
    "data.info()"
   ]
  },
  {
   "cell_type": "code",
   "execution_count": null,
   "metadata": {},
   "outputs": [
    {
     "data": {
      "text/plain": [
       "(156, 17)"
      ]
     },
     "execution_count": 4,
     "metadata": {},
     "output_type": "execute_result"
    }
   ],
   "source": [
    "data.shape"
   ]
  },
  {
   "cell_type": "markdown",
   "metadata": {},
   "source": [
    "### Dataset health"
   ]
  },
  {
   "cell_type": "code",
   "execution_count": null,
   "metadata": {},
   "outputs": [
    {
     "data": {
      "text/plain": [
       "0"
      ]
     },
     "execution_count": 5,
     "metadata": {},
     "output_type": "execute_result"
    }
   ],
   "source": [
    "# let's check the duplicated\n",
    "data.duplicated().sum()"
   ]
  },
  {
   "cell_type": "code",
   "execution_count": null,
   "metadata": {},
   "outputs": [
    {
     "data": {
      "text/plain": [
       "countries                0\n",
       "ioc_code                 0\n",
       "summer_participations    0\n",
       "summer_gold              0\n",
       "summer_silver            0\n",
       "summer_bronze            0\n",
       "summer_total             0\n",
       "winter_participations    0\n",
       "winter_gold              0\n",
       "winter_silver            0\n",
       "winter_bronze            0\n",
       "winter_total             0\n",
       "total_participation      0\n",
       "total_gold               0\n",
       "total_silver             0\n",
       "total_bronze             0\n",
       "total_total              0\n",
       "dtype: int64"
      ]
     },
     "execution_count": 6,
     "metadata": {},
     "output_type": "execute_result"
    }
   ],
   "source": [
    "# let's check the null\n",
    "data.isnull().sum()"
   ]
  },
  {
   "cell_type": "markdown",
   "metadata": {},
   "source": [
    "A too perfect dataset."
   ]
  },
  {
   "cell_type": "markdown",
   "metadata": {},
   "source": []
  },
  {
   "cell_type": "markdown",
   "metadata": {},
   "source": []
  }
 ],
 "metadata": {
  "kernelspec": {
   "display_name": "Python 3.9.12 ('DataScience')",
   "language": "python",
   "name": "python3"
  },
  "language_info": {
   "codemirror_mode": {
    "name": "ipython",
    "version": 3
   },
   "file_extension": ".py",
   "mimetype": "text/x-python",
   "name": "python",
   "nbconvert_exporter": "python",
   "pygments_lexer": "ipython3",
   "version": "3.9.12"
  },
  "orig_nbformat": 4,
  "vscode": {
   "interpreter": {
    "hash": "6db311fa6237437dce2be15f287fc1eb69ef11eb41517342adceacbf01762030"
   }
  }
 },
 "nbformat": 4,
 "nbformat_minor": 2
}
