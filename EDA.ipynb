{
 "cells": [
  {
   "cell_type": "code",
   "execution_count": 82,
   "metadata": {},
   "outputs": [],
   "source": [
    "import numpy as np \n",
    "import pandas as pd\n",
    "import matplotlib.pyplot as plt\n",
    "import seaborn as sns"
   ]
  },
  {
   "cell_type": "code",
   "execution_count": 83,
   "metadata": {},
   "outputs": [
    {
     "data": {
      "text/html": [
       "<div>\n",
       "<style scoped>\n",
       "    .dataframe tbody tr th:only-of-type {\n",
       "        vertical-align: middle;\n",
       "    }\n",
       "\n",
       "    .dataframe tbody tr th {\n",
       "        vertical-align: top;\n",
       "    }\n",
       "\n",
       "    .dataframe thead th {\n",
       "        text-align: right;\n",
       "    }\n",
       "</style>\n",
       "<table border=\"1\" class=\"dataframe\">\n",
       "  <thead>\n",
       "    <tr style=\"text-align: right;\">\n",
       "      <th></th>\n",
       "      <th>countries</th>\n",
       "      <th>ioc_code</th>\n",
       "      <th>summer_participations</th>\n",
       "      <th>summer_gold</th>\n",
       "      <th>summer_silver</th>\n",
       "      <th>summer_bronze</th>\n",
       "      <th>summer_total</th>\n",
       "      <th>winter_participations</th>\n",
       "      <th>winter_gold</th>\n",
       "      <th>winter_silver</th>\n",
       "      <th>winter_bronze</th>\n",
       "      <th>winter_total</th>\n",
       "      <th>total_participation</th>\n",
       "      <th>total_gold</th>\n",
       "      <th>total_silver</th>\n",
       "      <th>total_bronze</th>\n",
       "      <th>total_total</th>\n",
       "    </tr>\n",
       "  </thead>\n",
       "  <tbody>\n",
       "    <tr>\n",
       "      <th>0</th>\n",
       "      <td>Afghanistan</td>\n",
       "      <td>(AFG)</td>\n",
       "      <td>15</td>\n",
       "      <td>0.0</td>\n",
       "      <td>0</td>\n",
       "      <td>2</td>\n",
       "      <td>2.0</td>\n",
       "      <td>0</td>\n",
       "      <td>0</td>\n",
       "      <td>0</td>\n",
       "      <td>0</td>\n",
       "      <td>0</td>\n",
       "      <td>15</td>\n",
       "      <td>0.0</td>\n",
       "      <td>0</td>\n",
       "      <td>2</td>\n",
       "      <td>2.0</td>\n",
       "    </tr>\n",
       "    <tr>\n",
       "      <th>1</th>\n",
       "      <td>Algeria</td>\n",
       "      <td>(ALG)</td>\n",
       "      <td>14</td>\n",
       "      <td>5.0</td>\n",
       "      <td>4</td>\n",
       "      <td>8</td>\n",
       "      <td>17.0</td>\n",
       "      <td>3</td>\n",
       "      <td>0</td>\n",
       "      <td>0</td>\n",
       "      <td>0</td>\n",
       "      <td>0</td>\n",
       "      <td>17</td>\n",
       "      <td>5.0</td>\n",
       "      <td>4</td>\n",
       "      <td>8</td>\n",
       "      <td>17.0</td>\n",
       "    </tr>\n",
       "    <tr>\n",
       "      <th>2</th>\n",
       "      <td>Argentina</td>\n",
       "      <td>(ARG)</td>\n",
       "      <td>25</td>\n",
       "      <td>21.0</td>\n",
       "      <td>26</td>\n",
       "      <td>30</td>\n",
       "      <td>77.0</td>\n",
       "      <td>20</td>\n",
       "      <td>0</td>\n",
       "      <td>0</td>\n",
       "      <td>0</td>\n",
       "      <td>0</td>\n",
       "      <td>45</td>\n",
       "      <td>21.0</td>\n",
       "      <td>26</td>\n",
       "      <td>30</td>\n",
       "      <td>77.0</td>\n",
       "    </tr>\n",
       "  </tbody>\n",
       "</table>\n",
       "</div>"
      ],
      "text/plain": [
       "     countries ioc_code  summer_participations  summer_gold  summer_silver  \\\n",
       "0  Afghanistan    (AFG)                     15          0.0              0   \n",
       "1      Algeria    (ALG)                     14          5.0              4   \n",
       "2    Argentina    (ARG)                     25         21.0             26   \n",
       "\n",
       "   summer_bronze  summer_total  winter_participations  winter_gold  \\\n",
       "0              2           2.0                      0            0   \n",
       "1              8          17.0                      3            0   \n",
       "2             30          77.0                     20            0   \n",
       "\n",
       "   winter_silver  winter_bronze  winter_total  total_participation  \\\n",
       "0              0              0             0                   15   \n",
       "1              0              0             0                   17   \n",
       "2              0              0             0                   45   \n",
       "\n",
       "   total_gold  total_silver  total_bronze  total_total   \n",
       "0         0.0             0             2           2.0  \n",
       "1         5.0             4             8          17.0  \n",
       "2        21.0            26            30          77.0  "
      ]
     },
     "execution_count": 83,
     "metadata": {},
     "output_type": "execute_result"
    }
   ],
   "source": [
    "data = pd.read_csv('olympics_medals_country_wise.csv',sep=\",\", decimal=\",\")\n",
    "data.head(3)"
   ]
  },
  {
   "cell_type": "markdown",
   "metadata": {},
   "source": [
    "OK I would have liked to have dates of these medals. But let's work with totals"
   ]
  },
  {
   "cell_type": "markdown",
   "metadata": {},
   "source": [
    "____"
   ]
  },
  {
   "cell_type": "markdown",
   "metadata": {},
   "source": [
    "## The beginning. \n",
    "Understanding the dataset, its columns and information."
   ]
  },
  {
   "cell_type": "code",
   "execution_count": 84,
   "metadata": {},
   "outputs": [
    {
     "name": "stdout",
     "output_type": "stream",
     "text": [
      "<class 'pandas.core.frame.DataFrame'>\n",
      "RangeIndex: 156 entries, 0 to 155\n",
      "Data columns (total 17 columns):\n",
      " #   Column                 Non-Null Count  Dtype  \n",
      "---  ------                 --------------  -----  \n",
      " 0   countries              156 non-null    object \n",
      " 1   ioc_code               156 non-null    object \n",
      " 2   summer_participations  156 non-null    int64  \n",
      " 3   summer_gold            156 non-null    float64\n",
      " 4   summer_silver          156 non-null    int64  \n",
      " 5   summer_bronze          156 non-null    int64  \n",
      " 6   summer_total           156 non-null    float64\n",
      " 7   winter_participations  156 non-null    int64  \n",
      " 8   winter_gold            156 non-null    int64  \n",
      " 9   winter_silver          156 non-null    int64  \n",
      " 10  winter_bronze          156 non-null    int64  \n",
      " 11  winter_total           156 non-null    int64  \n",
      " 12  total_participation    156 non-null    int64  \n",
      " 13  total_gold             156 non-null    float64\n",
      " 14  total_silver           156 non-null    int64  \n",
      " 15  total_bronze           156 non-null    int64  \n",
      " 16  total_total            156 non-null    float64\n",
      "dtypes: float64(4), int64(11), object(2)\n",
      "memory usage: 20.8+ KB\n"
     ]
    }
   ],
   "source": [
    "data.info()"
   ]
  },
  {
   "cell_type": "code",
   "execution_count": 85,
   "metadata": {},
   "outputs": [
    {
     "data": {
      "text/plain": [
       "(156, 17)"
      ]
     },
     "execution_count": 85,
     "metadata": {},
     "output_type": "execute_result"
    }
   ],
   "source": [
    "data.shape"
   ]
  },
  {
   "cell_type": "markdown",
   "metadata": {},
   "source": [
    "### Dataset health"
   ]
  },
  {
   "cell_type": "code",
   "execution_count": 87,
   "metadata": {},
   "outputs": [
    {
     "data": {
      "text/plain": [
       "0"
      ]
     },
     "execution_count": 87,
     "metadata": {},
     "output_type": "execute_result"
    }
   ],
   "source": [
    "# let's check the duplicated\n",
    "data.duplicated().sum()"
   ]
  },
  {
   "cell_type": "code",
   "execution_count": 88,
   "metadata": {},
   "outputs": [
    {
     "data": {
      "text/plain": [
       "countries                0\n",
       "ioc_code                 0\n",
       "summer_participations    0\n",
       "summer_gold              0\n",
       "summer_silver            0\n",
       "summer_bronze            0\n",
       "summer_total             0\n",
       "winter_participations    0\n",
       "winter_gold              0\n",
       "winter_silver            0\n",
       "winter_bronze            0\n",
       "winter_total             0\n",
       "total_participation      0\n",
       "total_gold               0\n",
       "total_silver             0\n",
       "total_bronze             0\n",
       "total_total              0\n",
       "dtype: int64"
      ]
     },
     "execution_count": 88,
     "metadata": {},
     "output_type": "execute_result"
    }
   ],
   "source": [
    "# let's check the null\n",
    "data.isnull().sum()"
   ]
  },
  {
   "cell_type": "markdown",
   "metadata": {},
   "source": [
    "A too perfect dataset."
   ]
  },
  {
   "cell_type": "markdown",
   "metadata": {},
   "source": [
    "### Let's start with Summer info"
   ]
  },
  {
   "cell_type": "code",
   "execution_count": 97,
   "metadata": {},
   "outputs": [],
   "source": [
    "summer_data = data.loc[:, ['countries','summer_participations', 'summer_gold', 'summer_silver', 'summer_bronze', 'summer_total']]"
   ]
  },
  {
   "cell_type": "code",
   "execution_count": 98,
   "metadata": {},
   "outputs": [
    {
     "name": "stdout",
     "output_type": "stream",
     "text": [
      "<class 'pandas.core.frame.DataFrame'>\n",
      "RangeIndex: 156 entries, 0 to 155\n",
      "Data columns (total 6 columns):\n",
      " #   Column                 Non-Null Count  Dtype \n",
      "---  ------                 --------------  ----- \n",
      " 0   countries              156 non-null    object\n",
      " 1   summer_participations  156 non-null    int64 \n",
      " 2   summer_gold            156 non-null    int32 \n",
      " 3   summer_silver          156 non-null    int64 \n",
      " 4   summer_bronze          156 non-null    int64 \n",
      " 5   summer_total           156 non-null    int32 \n",
      "dtypes: int32(2), int64(3), object(1)\n",
      "memory usage: 6.2+ KB\n"
     ]
    }
   ],
   "source": [
    "# Let's make the data types more correct \n",
    "type_str_list = ['summer_gold','summer_total']\n",
    "for column in type_str_list: data[column] = data[column].astype(int)\n",
    "\n",
    "summer_data.info()"
   ]
  },
  {
   "cell_type": "code",
   "execution_count": 145,
   "metadata": {},
   "outputs": [
    {
     "data": {
      "text/html": [
       "<div>\n",
       "<style scoped>\n",
       "    .dataframe tbody tr th:only-of-type {\n",
       "        vertical-align: middle;\n",
       "    }\n",
       "\n",
       "    .dataframe tbody tr th {\n",
       "        vertical-align: top;\n",
       "    }\n",
       "\n",
       "    .dataframe thead th {\n",
       "        text-align: right;\n",
       "    }\n",
       "</style>\n",
       "<table border=\"1\" class=\"dataframe\">\n",
       "  <thead>\n",
       "    <tr style=\"text-align: right;\">\n",
       "      <th></th>\n",
       "      <th>countries</th>\n",
       "      <th>summer_participations</th>\n",
       "      <th>summer_gold</th>\n",
       "      <th>summer_silver</th>\n",
       "      <th>summer_bronze</th>\n",
       "      <th>summer_total</th>\n",
       "    </tr>\n",
       "  </thead>\n",
       "  <tbody>\n",
       "    <tr>\n",
       "      <th>129</th>\n",
       "      <td>Switzerland</td>\n",
       "      <td>29</td>\n",
       "      <td>53</td>\n",
       "      <td>79</td>\n",
       "      <td>74</td>\n",
       "      <td>206</td>\n",
       "    </tr>\n",
       "    <tr>\n",
       "      <th>52</th>\n",
       "      <td>Greece</td>\n",
       "      <td>29</td>\n",
       "      <td>35</td>\n",
       "      <td>45</td>\n",
       "      <td>41</td>\n",
       "      <td>121</td>\n",
       "    </tr>\n",
       "    <tr>\n",
       "      <th>43</th>\n",
       "      <td>France</td>\n",
       "      <td>29</td>\n",
       "      <td>223</td>\n",
       "      <td>251</td>\n",
       "      <td>277</td>\n",
       "      <td>751</td>\n",
       "    </tr>\n",
       "    <tr>\n",
       "      <th>51</th>\n",
       "      <td>Great Britain</td>\n",
       "      <td>29</td>\n",
       "      <td>284</td>\n",
       "      <td>318</td>\n",
       "      <td>314</td>\n",
       "      <td>916</td>\n",
       "    </tr>\n",
       "    <tr>\n",
       "      <th>144</th>\n",
       "      <td>United States</td>\n",
       "      <td>28</td>\n",
       "      <td>1</td>\n",
       "      <td>831</td>\n",
       "      <td>738</td>\n",
       "      <td>2</td>\n",
       "    </tr>\n",
       "    <tr>\n",
       "      <th>...</th>\n",
       "      <td>...</td>\n",
       "      <td>...</td>\n",
       "      <td>...</td>\n",
       "      <td>...</td>\n",
       "      <td>...</td>\n",
       "      <td>...</td>\n",
       "    </tr>\n",
       "    <tr>\n",
       "      <th>17</th>\n",
       "      <td>British West Indies</td>\n",
       "      <td>1</td>\n",
       "      <td>0</td>\n",
       "      <td>0</td>\n",
       "      <td>2</td>\n",
       "      <td>2</td>\n",
       "    </tr>\n",
       "    <tr>\n",
       "      <th>113</th>\n",
       "      <td>ROC</td>\n",
       "      <td>1</td>\n",
       "      <td>20</td>\n",
       "      <td>28</td>\n",
       "      <td>23</td>\n",
       "      <td>71</td>\n",
       "    </tr>\n",
       "    <tr>\n",
       "      <th>111</th>\n",
       "      <td>Unified Team</td>\n",
       "      <td>1</td>\n",
       "      <td>45</td>\n",
       "      <td>38</td>\n",
       "      <td>29</td>\n",
       "      <td>112</td>\n",
       "    </tr>\n",
       "    <tr>\n",
       "      <th>154</th>\n",
       "      <td>Independent Olympic Participants</td>\n",
       "      <td>1</td>\n",
       "      <td>0</td>\n",
       "      <td>1</td>\n",
       "      <td>2</td>\n",
       "      <td>3</td>\n",
       "    </tr>\n",
       "    <tr>\n",
       "      <th>112</th>\n",
       "      <td>Olympic Athletes from Russia</td>\n",
       "      <td>0</td>\n",
       "      <td>0</td>\n",
       "      <td>0</td>\n",
       "      <td>0</td>\n",
       "      <td>0</td>\n",
       "    </tr>\n",
       "  </tbody>\n",
       "</table>\n",
       "<p>156 rows × 6 columns</p>\n",
       "</div>"
      ],
      "text/plain": [
       "                             countries  summer_participations  summer_gold  \\\n",
       "129                        Switzerland                     29           53   \n",
       "52                              Greece                     29           35   \n",
       "43                              France                     29          223   \n",
       "51                       Great Britain                     29          284   \n",
       "144                      United States                     28            1   \n",
       "..                                 ...                    ...          ...   \n",
       "17                 British West Indies                      1            0   \n",
       "113                               ROC                       1           20   \n",
       "111                       Unified Team                      1           45   \n",
       "154  Independent Olympic Participants                       1            0   \n",
       "112       Olympic Athletes from Russia                      0            0   \n",
       "\n",
       "     summer_silver  summer_bronze  summer_total  \n",
       "129             79             74           206  \n",
       "52              45             41           121  \n",
       "43             251            277           751  \n",
       "51             318            314           916  \n",
       "144            831            738             2  \n",
       "..             ...            ...           ...  \n",
       "17               0              2             2  \n",
       "113             28             23            71  \n",
       "111             38             29           112  \n",
       "154              1              2             3  \n",
       "112              0              0             0  \n",
       "\n",
       "[156 rows x 6 columns]"
      ]
     },
     "execution_count": 145,
     "metadata": {},
     "output_type": "execute_result"
    }
   ],
   "source": [
    "# Which countries have the most participants?\n",
    "summer_data.sort_values('summer_participations',ascending=False)"
   ]
  },
  {
   "cell_type": "code",
   "execution_count": 159,
   "metadata": {},
   "outputs": [
    {
     "data": {
      "image/png": "[encoded data removed]",
      "text/plain": [
       "<Figure size 1440x288 with 1 Axes>"
      ]
     },
     "metadata": {},
     "output_type": "display_data"
    }
   ],
   "source": [
    "# Let's understand the Summer winners. >> summer_total\n",
    "\n",
    "sns.set(rc={\"figure.figsize\":(20, 4)})\n",
    "sns.boxplot(data=summer_data.summer_total, orient=\"h\");"
   ]
  },
  {
   "cell_type": "code",
   "execution_count": 163,
   "metadata": {},
   "outputs": [
    {
     "data": {
      "image/png": "[encoded data removed]",
      "text/plain": [
       "<Figure size 1440x288 with 1 Axes>"
      ]
     },
     "metadata": {},
     "output_type": "display_data"
    }
   ],
   "source": [
    "sns.kdeplot(data=summer_data.summer_total)\n",
    "plt.xlim(0,1000)\n",
    "plt.show()"
   ]
  },
  {
   "cell_type": "code",
   "execution_count": 160,
   "metadata": {},
   "outputs": [
    {
     "data": {
      "text/html": [
       "<div>\n",
       "<style scoped>\n",
       "    .dataframe tbody tr th:only-of-type {\n",
       "        vertical-align: middle;\n",
       "    }\n",
       "\n",
       "    .dataframe tbody tr th {\n",
       "        vertical-align: top;\n",
       "    }\n",
       "\n",
       "    .dataframe thead th {\n",
       "        text-align: right;\n",
       "    }\n",
       "</style>\n",
       "<table border=\"1\" class=\"dataframe\">\n",
       "  <thead>\n",
       "    <tr style=\"text-align: right;\">\n",
       "      <th></th>\n",
       "      <th>countries</th>\n",
       "      <th>summer_participations</th>\n",
       "      <th>summer_gold</th>\n",
       "      <th>summer_silver</th>\n",
       "      <th>summer_bronze</th>\n",
       "      <th>summer_total</th>\n",
       "    </tr>\n",
       "  </thead>\n",
       "  <tbody>\n",
       "    <tr>\n",
       "      <th>51</th>\n",
       "      <td>Great Britain</td>\n",
       "      <td>29</td>\n",
       "      <td>284</td>\n",
       "      <td>318</td>\n",
       "      <td>314</td>\n",
       "      <td>916</td>\n",
       "    </tr>\n",
       "    <tr>\n",
       "      <th>43</th>\n",
       "      <td>France</td>\n",
       "      <td>29</td>\n",
       "      <td>223</td>\n",
       "      <td>251</td>\n",
       "      <td>277</td>\n",
       "      <td>751</td>\n",
       "    </tr>\n",
       "    <tr>\n",
       "      <th>46</th>\n",
       "      <td>Germany</td>\n",
       "      <td>17</td>\n",
       "      <td>201</td>\n",
       "      <td>207</td>\n",
       "      <td>247</td>\n",
       "      <td>655</td>\n",
       "    </tr>\n",
       "    <tr>\n",
       "      <th>24</th>\n",
       "      <td>China</td>\n",
       "      <td>11</td>\n",
       "      <td>262</td>\n",
       "      <td>199</td>\n",
       "      <td>173</td>\n",
       "      <td>634</td>\n",
       "    </tr>\n",
       "    <tr>\n",
       "      <th>66</th>\n",
       "      <td>Italy</td>\n",
       "      <td>28</td>\n",
       "      <td>217</td>\n",
       "      <td>188</td>\n",
       "      <td>213</td>\n",
       "      <td>618</td>\n",
       "    </tr>\n",
       "    <tr>\n",
       "      <th>...</th>\n",
       "      <td>...</td>\n",
       "      <td>...</td>\n",
       "      <td>...</td>\n",
       "      <td>...</td>\n",
       "      <td>...</td>\n",
       "      <td>...</td>\n",
       "    </tr>\n",
       "    <tr>\n",
       "      <th>38</th>\n",
       "      <td>Eritrea</td>\n",
       "      <td>6</td>\n",
       "      <td>0</td>\n",
       "      <td>0</td>\n",
       "      <td>1</td>\n",
       "      <td>1</td>\n",
       "    </tr>\n",
       "    <tr>\n",
       "      <th>34</th>\n",
       "      <td>Djibouti</td>\n",
       "      <td>9</td>\n",
       "      <td>0</td>\n",
       "      <td>0</td>\n",
       "      <td>1</td>\n",
       "      <td>1</td>\n",
       "    </tr>\n",
       "    <tr>\n",
       "      <th>116</th>\n",
       "      <td>Samoa</td>\n",
       "      <td>10</td>\n",
       "      <td>0</td>\n",
       "      <td>1</td>\n",
       "      <td>0</td>\n",
       "      <td>1</td>\n",
       "    </tr>\n",
       "    <tr>\n",
       "      <th>112</th>\n",
       "      <td>Olympic Athletes from Russia</td>\n",
       "      <td>0</td>\n",
       "      <td>0</td>\n",
       "      <td>0</td>\n",
       "      <td>0</td>\n",
       "      <td>0</td>\n",
       "    </tr>\n",
       "    <tr>\n",
       "      <th>79</th>\n",
       "      <td>Liechtenstein</td>\n",
       "      <td>18</td>\n",
       "      <td>0</td>\n",
       "      <td>0</td>\n",
       "      <td>0</td>\n",
       "      <td>0</td>\n",
       "    </tr>\n",
       "  </tbody>\n",
       "</table>\n",
       "<p>156 rows × 6 columns</p>\n",
       "</div>"
      ],
      "text/plain": [
       "                        countries  summer_participations  summer_gold  \\\n",
       "51                  Great Britain                     29          284   \n",
       "43                         France                     29          223   \n",
       "46                        Germany                     17          201   \n",
       "24                          China                     11          262   \n",
       "66                          Italy                     28          217   \n",
       "..                            ...                    ...          ...   \n",
       "38                        Eritrea                      6            0   \n",
       "34                       Djibouti                      9            0   \n",
       "116                         Samoa                     10            0   \n",
       "112  Olympic Athletes from Russia                      0            0   \n",
       "79                  Liechtenstein                     18            0   \n",
       "\n",
       "     summer_silver  summer_bronze  summer_total  \n",
       "51             318            314           916  \n",
       "43             251            277           751  \n",
       "46             207            247           655  \n",
       "24             199            173           634  \n",
       "66             188            213           618  \n",
       "..             ...            ...           ...  \n",
       "38               0              1             1  \n",
       "34               0              1             1  \n",
       "116              1              0             1  \n",
       "112              0              0             0  \n",
       "79               0              0             0  \n",
       "\n",
       "[156 rows x 6 columns]"
      ]
     },
     "execution_count": 160,
     "metadata": {},
     "output_type": "execute_result"
    }
   ],
   "source": [
    "summer_data.sort_values('summer_total',ascending=False)"
   ]
  },
  {
   "cell_type": "code",
   "execution_count": 92,
   "metadata": {},
   "outputs": [],
   "source": [
    "# Let's see the relation between number of participants and medals won."
   ]
  },
  {
   "cell_type": "code",
   "execution_count": 138,
   "metadata": {},
   "outputs": [
    {
     "data": {
      "text/plain": [
       "<seaborn.axisgrid.JointGrid at 0x23975dd5280>"
      ]
     },
     "execution_count": 138,
     "metadata": {},
     "output_type": "execute_result"
    },
    {
     "data": {
      "image/png": "[encoded data removed]",
      "text/plain": [
       "<Figure size 432x432 with 3 Axes>"
      ]
     },
     "metadata": {},
     "output_type": "display_data"
    }
   ],
   "source": [
    "sns.jointplot(data=summer_data, x=\"summer_participations\", y=\"summer_gold\", kind=\"hist\")"
   ]
  },
  {
   "cell_type": "code",
   "execution_count": 132,
   "metadata": {},
   "outputs": [
    {
     "data": {
      "image/png": "[encoded data removed]",
      "text/plain": [
       "<Figure size 720x720 with 4 Axes>"
      ]
     },
     "metadata": {},
     "output_type": "display_data"
    }
   ],
   "source": [
    "f, axs = plt.subplots(2, 2, figsize=(10, 10), gridspec_kw=dict(width_ratios=[4, 4]))\n",
    "sns.scatterplot( data=summer_data, x=\"summer_participations\", y=\"summer_gold\", ax=axs[0,0])\n",
    "sns.scatterplot( data=summer_data, x=\"summer_participations\", y=\"summer_silver\", ax=axs[0,1])\n",
    "sns.scatterplot( data=summer_data, x=\"summer_participations\", y=\"summer_bronze\", ax=axs[1,0])\n",
    "sns.scatterplot( data=summer_data, x=\"summer_participations\", y=\"summer_total\", ax=axs[1,1])\n",
    "f.tight_layout()\n"
   ]
  },
  {
   "cell_type": "markdown",
   "metadata": {},
   "source": [
    "I fail to see any connection."
   ]
  },
  {
   "cell_type": "markdown",
   "metadata": {},
   "source": [
    "I'll continue with the winter games. But I want to think about how the variables might be related, can you help me? \n",
    "\n",
    "To be continued"
   ]
  }
 ],
 "metadata": {
  "kernelspec": {
   "display_name": "Python 3.9.12 ('DataScience')",
   "language": "python",
   "name": "python3"
  },
  "language_info": {
   "codemirror_mode": {
    "name": "ipython",
    "version": 3
   },
   "file_extension": ".py",
   "mimetype": "text/x-python",
   "name": "python",
   "nbconvert_exporter": "python",
   "pygments_lexer": "ipython3",
   "version": "3.9.12"
  },
  "orig_nbformat": 4,
  "vscode": {
   "interpreter": {
    "hash": "6db311fa6237437dce2be15f287fc1eb69ef11eb41517342adceacbf01762030"
   }
  }
 },
 "nbformat": 4,
 "nbformat_minor": 2
}
